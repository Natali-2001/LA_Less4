{
 "cells": [
  {
   "cell_type": "code",
   "execution_count": 1,
   "metadata": {},
   "outputs": [],
   "source": [
    "import numpy as np \n",
    "import matplotlib.pyplot as plt\n",
    "import scipy \n",
    "import scipy.linalg"
   ]
  },
  {
   "cell_type": "markdown",
   "metadata": {},
   "source": [
    "#### 6. 1. Решить систему уравнений методом Гаусса:\n",
    "\n",
    "$$\\begin{cases}\n",
    "x_{1}+x_{2}-x_{3}-2x_{4}=0, \\\\\n",
    "2x_{1}+x_{2}-x_{3}+x_{4}=-2, \\\\\n",
    "x_{1}+x_{2}-3x_{3}+x_{4}=4.\n",
    "\\end{cases}$$"
   ]
  },
  {
   "cell_type": "code",
   "execution_count": 2,
   "metadata": {},
   "outputs": [
    {
     "name": "stdout",
     "output_type": "stream",
     "text": [
      "Запишем расширенную матрицу системы:\n",
      "[[ 1  1 -1 -2  0]\n",
      " [ 2  1 -1  1 -2]\n",
      " [ 1  1 -3  1  4]]\n",
      "Ранг матрицы r1=3\n",
      "Ранг расширенной матрицы r2=3\n"
     ]
    }
   ],
   "source": [
    "# Проверка решения \n",
    "A = np.array([[1, 1,-1, -2], [2, 1, -1, 1], [1, 1, -3, 1]])\n",
    "B = np.array([[0, -2, 4]])\n",
    "\n",
    "print(f'Запишем расширенную матрицу системы:')\n",
    "C = np.concatenate((A,B.T), axis=1)\n",
    "print (C)\n",
    "print(f'Ранг матрицы r1={np.linalg.matrix_rank(A, 0.0001)}')\n",
    "print(f'Ранг расширенной матрицы r2={np.linalg.matrix_rank(C, 0.0001)}')"
   ]
  },
  {
   "cell_type": "markdown",
   "metadata": {},
   "source": [
    "$$rank A=rank \\tilde A.$$\n",
    "\n",
    "Значит, система совместна и имеет бесконечное множество решений.\n",
    "\n",
    "Общим решением будет:\n",
    "\n",
    "$x_1=-6\\cdot C-2$\n",
    "\n",
    "$x_2=13\\cdot C$\n",
    "\n",
    "$x_3=3\\cdot C-2$\n",
    "\n",
    "$x_4=2\\cdot C$"
   ]
  },
  {
   "cell_type": "markdown",
   "metadata": {},
   "source": [
    "#### 6. 2.a Проверить на совместность и выяснить, сколько решений будет иметь система линейных уравнений:\n",
    "\n",
    "   а) $\\begin{cases}\n",
    "3x_{1}-x_{2}+x_{3}=4, \\\\\n",
    "2x_{1}-5x_{2}-3x_{3}=-17, \\\\\n",
    "x_{1}+x_{2}-x_{3}=0;\n",
    "\\end{cases}$"
   ]
  },
  {
   "cell_type": "code",
   "execution_count": 3,
   "metadata": {},
   "outputs": [
    {
     "name": "stdout",
     "output_type": "stream",
     "text": [
      "Запишем расширенную матрицу системы:\n",
      "[[  3  -1   1   4]\n",
      " [  2  -5  -3 -17]\n",
      " [  1   1  -1   0]]\n",
      "Ранг матрицы r1=3\n",
      "Ранг расширенной матрицы r2=3\n"
     ]
    }
   ],
   "source": [
    "# Проверка решения \n",
    "A = np.array([[3, -1, 1], [2, -5, -3], [1, 1, -1]])\n",
    "B = np.array([[4, -17, 0]])\n",
    "\n",
    "print(f'Запишем расширенную матрицу системы:')\n",
    "C = np.concatenate((A,B.T), axis=1)\n",
    "print (C)\n",
    "print(f'Ранг матрицы r1={np.linalg.matrix_rank(A, 0.0001)}')\n",
    "print(f'Ранг расширенной матрицы r2={np.linalg.matrix_rank(C, 0.0001)}')"
   ]
  },
  {
   "cell_type": "markdown",
   "metadata": {},
   "source": [
    "$$rank A=rank \\tilde A.$$\n",
    "\n",
    "Значит, система совместна и имеет единственное решение.\n"
   ]
  },
  {
   "cell_type": "markdown",
   "metadata": {},
   "source": [
    "#### 6.2.б Проверить на совместность и выяснить, сколько решений будет иметь система линейных уравнений:\n",
    "\n",
    "   б) $\\begin{cases}\n",
    "2x_{1}-4x_{2}+6x_{3}=1, \\\\\n",
    "x_{1}-2x_{2}+3x_{3}=-2, \\\\\n",
    "3x_{1}-6x_{2}+9x_{3}=5;\n",
    "\\end{cases}$"
   ]
  },
  {
   "cell_type": "code",
   "execution_count": 4,
   "metadata": {},
   "outputs": [
    {
     "name": "stdout",
     "output_type": "stream",
     "text": [
      "Запишем расширенную матрицу системы:\n",
      "[[ 2 -4  6  1]\n",
      " [ 1 -2  3 -2]\n",
      " [ 3 -6  9  5]]\n",
      "Ранг матрицы r1=1\n",
      "Ранг расширенной матрицы r2=2\n"
     ]
    }
   ],
   "source": [
    "# Проверка решения \n",
    "A = np.array([[2, -4, 6], [1, -2, 3], [3, -6, 9]])\n",
    "B = np.array([[1, -2, 5]])\n",
    "\n",
    "print(f'Запишем расширенную матрицу системы:')\n",
    "C = np.concatenate((A,B.T), axis=1)\n",
    "print (C)\n",
    "print(f'Ранг матрицы r1={np.linalg.matrix_rank(A, 0.0001)}')\n",
    "print(f'Ранг расширенной матрицы r2={np.linalg.matrix_rank(C, 0.0001)}')"
   ]
  },
  {
   "cell_type": "markdown",
   "metadata": {},
   "source": [
    "$$rank A<rank \\tilde A.$$\n",
    "\n",
    "Значит, система несовместна и не имеет решений.\n"
   ]
  },
  {
   "cell_type": "markdown",
   "metadata": {},
   "source": [
    "#### 6.2.в Проверить на совместность и выяснить, сколько решений будет иметь система линейных уравнений:\n",
    "\n",
    "   в) $\\begin{cases}\n",
    "x_{1}+2x_{2}+5x_{3}=4, \\\\\n",
    "3x_{1}+x_{2}-8x_{3}=-2. \n",
    "\\end{cases}$\n"
   ]
  },
  {
   "cell_type": "code",
   "execution_count": 5,
   "metadata": {},
   "outputs": [
    {
     "name": "stdout",
     "output_type": "stream",
     "text": [
      "Запишем расширенную матрицу системы:\n",
      "[[ 1  2  5  4]\n",
      " [ 3  1 -8 -2]]\n",
      "Ранг матрицы r1=2\n",
      "Ранг расширенной матрицы r2=2\n"
     ]
    }
   ],
   "source": [
    "# Проверка решения \n",
    "A = np.array([[1, 2, 5], [3, 1, -8]])\n",
    "B = np.array([[4, -2]])\n",
    "\n",
    "print(f'Запишем расширенную матрицу системы:')\n",
    "C = np.concatenate((A,B.T), axis=1)\n",
    "print (C)\n",
    "print(f'Ранг матрицы r1={np.linalg.matrix_rank(A, 0.0001)}')\n",
    "print(f'Ранг расширенной матрицы r2={np.linalg.matrix_rank(C, 0.0001)}')"
   ]
  },
  {
   "cell_type": "markdown",
   "metadata": {},
   "source": [
    "$$rank A=rank \\tilde A<n=3$$\n",
    "\n",
    "Значит, система совместна и имеет бесконечное количество решений."
   ]
  },
  {
   "cell_type": "markdown",
   "metadata": {},
   "source": [
    "#### 6.3. Проверить на совместность и выяснить, сколько решений будет иметь система линейных уравнений, заданная расширенной матрицей\n",
    "\n",
    "$$\\tilde{A}=\\begin{pmatrix}\n",
    "\\left.\\begin{matrix}\n",
    "1 & 3 & -2 & 4\\\\ \n",
    "0 & 5 & 0 & 1\\\\ \n",
    "0 & 0 & 3 & 0\\\\ \n",
    "0 & 0 & 0 & 2\n",
    "\\end{matrix}\\right|\n",
    "\\begin{matrix}\n",
    "3\\\\ \n",
    "2\\\\\n",
    "4\\\\\n",
    "1\n",
    "\\end{matrix}\n",
    "\\end{pmatrix}.$$"
   ]
  },
  {
   "cell_type": "code",
   "execution_count": 6,
   "metadata": {},
   "outputs": [
    {
     "name": "stdout",
     "output_type": "stream",
     "text": [
      "Запишем расширенную матрицу системы:\n",
      "[[ 1  3 -2  4  3]\n",
      " [ 0  5  0  1  2]\n",
      " [ 0  0  3  0  4]\n",
      " [ 0  0  0  2  1]]\n",
      "Ранг матрицы r1=4\n",
      "Ранг расширенной матрицы r2=4\n"
     ]
    }
   ],
   "source": [
    "# Проверка решения \n",
    "A = np.array([[1, 3, -2, 4], [0, 5, 0, 1], [0, 0, 3, 0], [0, 0, 0, 2]])\n",
    "B = np.array([[3, 2, 4, 1]])\n",
    "\n",
    "print(f'Запишем расширенную матрицу системы:')\n",
    "C = np.concatenate((A,B.T), axis=1)\n",
    "print (C)\n",
    "print(f'Ранг матрицы r1={np.linalg.matrix_rank(A, 0.0001)}')\n",
    "print(f'Ранг расширенной матрицы r2={np.linalg.matrix_rank(C, 0.0001)}')"
   ]
  },
  {
   "cell_type": "markdown",
   "metadata": {},
   "source": [
    "$$rank A=rank \\tilde A.$$\n",
    "\n",
    "Значит, система совместна и имеет единственное решение."
   ]
  },
  {
   "cell_type": "markdown",
   "metadata": {},
   "source": [
    "####  7.2*. Найти $L$-матрицу $LU$-разложения для матрицы коэффициентов:\n",
    "\n",
    "   а)$$\\begin{pmatrix}\n",
    "1 & 2 & 4 \\\\ \n",
    "2 & 9 & 12 \\\\ \n",
    "3 & 26 & 30\n",
    "\\end{pmatrix}$$"
   ]
  },
  {
   "cell_type": "code",
   "execution_count": 7,
   "metadata": {},
   "outputs": [
    {
     "name": "stdout",
     "output_type": "stream",
     "text": [
      "L-матрица:\n",
      "[[1.         0.         0.        ]\n",
      " [0.66666667 1.         0.        ]\n",
      " [0.33333333 0.8        1.        ]]\n",
      "Матрица LU\n",
      "[[ 3. 26. 30.]\n",
      " [ 2.  9. 12.]\n",
      " [ 1.  2.  4.]]\n"
     ]
    }
   ],
   "source": [
    "A = np.array([ [1, 2, 4], [2, 9, 12], [3, 26, 30]])\n",
    "P, L, U = scipy.linalg.lu(A)\n",
    "print(f'L-матрица:')\n",
    "print(L)\n",
    "\n",
    "# проверка\n",
    "print(f'Матрица LU\\n{np.dot(L, U)}')"
   ]
  },
  {
   "cell_type": "code",
   "execution_count": 8,
   "metadata": {},
   "outputs": [
    {
     "name": "stdout",
     "output_type": "stream",
     "text": [
      "Матрица LU\n",
      "[[ 1  2  4]\n",
      " [ 2  9 12]\n",
      " [ 3 26 30]]\n"
     ]
    }
   ],
   "source": [
    "# проверка решения с \"листочка\"\n",
    "A = np.array([ [1, 0, 0], [2, 1, 0], [3, 4, 1]])\n",
    "B = np.array([ [1, 2, 4], [0, 5, 4], [0, 0, 2]])\n",
    "print(f'Матрица LU\\n{np.dot(A, B)}')"
   ]
  },
  {
   "cell_type": "markdown",
   "metadata": {},
   "source": [
    "####  7.2*.б Найти $L$-матрицу $LU$-разложения для матрицы коэффициентов:\n",
    "\n",
    "   б)$$\\begin{pmatrix}\n",
    "1 & 1 & 2 & 4\\\\ \n",
    "2 & 5 & 8 & 9\\\\ \n",
    "3 & 18 & 29 & 18\\\\\n",
    "4 & 22 & 53 & 33\n",
    "\\end{pmatrix}$$"
   ]
  },
  {
   "cell_type": "code",
   "execution_count": 9,
   "metadata": {},
   "outputs": [
    {
     "name": "stdout",
     "output_type": "stream",
     "text": [
      "L-матрица:\n",
      "[[ 1.          0.          0.          0.        ]\n",
      " [ 0.5         1.          0.          0.        ]\n",
      " [ 0.75       -0.25        1.          0.        ]\n",
      " [ 0.25        0.75       -0.17073171  1.        ]]\n",
      "Матрица LU\n",
      "[[ 4. 22. 53. 33.]\n",
      " [ 2.  5.  8.  9.]\n",
      " [ 3. 18. 29. 18.]\n",
      " [ 1.  1.  2.  4.]]\n"
     ]
    }
   ],
   "source": [
    "A = np.array([ [1, 1, 2, 4], [2, 5, 8, 9], [3, 18, 29, 18], [4, 22, 53, 33]])\n",
    "P, L, U = scipy.linalg.lu(A)\n",
    "print(f'L-матрица:')\n",
    "print(L)\n",
    "\n",
    "# проверка\n",
    "print(f'Матрица LU\\n{np.dot(L, U)}')"
   ]
  },
  {
   "cell_type": "code",
   "execution_count": 10,
   "metadata": {},
   "outputs": [
    {
     "name": "stdout",
     "output_type": "stream",
     "text": [
      "Матрица LU\n",
      "[[ 1  1  2  4]\n",
      " [ 2  5  8  9]\n",
      " [ 3 18 29 18]\n",
      " [ 4 22 53 33]]\n"
     ]
    }
   ],
   "source": [
    "# проверка решения \"на листочке\"\n",
    "A = np.array([ [1, 0, 0, 0], [2, 1, 0, 0], [3, 5, 1, 0], [4, 6, 7, 1]])\n",
    "B = np.array([ [1, 1, 2, 4], [0, 3, 4, 1], [0, 0, 3, 1], [0, 0, 0, 4]])\n",
    "print(f'Матрица LU\\n{np.dot(A, B)}')"
   ]
  },
  {
   "cell_type": "markdown",
   "metadata": {},
   "source": [
    "####  7.3*. Решить систему линейных уравнений методом $LU$-разложения\n",
    "\n",
    "$$\\begin{cases}\n",
    "2x_{1}+x_{2}+3x_{3}=1 \\\\\n",
    "11x_{1}+7x_{2}+5x_{3}=-6 \\\\\n",
    "9x_{1}+8x_{2}+4x_{3}=-5\n",
    "\\end{cases}$$"
   ]
  },
  {
   "cell_type": "code",
   "execution_count": 18,
   "metadata": {},
   "outputs": [
    {
     "name": "stdout",
     "output_type": "stream",
     "text": [
      "Решение системы: [-1.  0.  1.]\n"
     ]
    }
   ],
   "source": [
    "A = np.array([ [2, 1, 3], [11, 7, 5], [9, 8, 4]])\n",
    "P, L, U = scipy.linalg.lu(A)\n",
    "\n",
    "# вектор правых частей\n",
    "B = np.array([1, -6, -5])\n",
    "X = np.linalg.solve(A, B)\n",
    "print(f'Решение системы: {X}')"
   ]
  },
  {
   "cell_type": "code",
   "execution_count": 23,
   "metadata": {},
   "outputs": [
    {
     "name": "stdout",
     "output_type": "stream",
     "text": [
      "Матрица LU\n",
      "[[ 2.  1.  3.]\n",
      " [11.  7.  5.]\n",
      " [ 9.  8.  4.]]\n",
      "Матрица Y\n",
      "[[  1.        ]\n",
      " [-11.5       ]\n",
      " [ 17.33333333]]\n",
      "Решение системы:\n",
      " [[-1.0000000e+00]\n",
      " [ 8.8817842e-16]\n",
      " [ 1.0000000e+00]]\n"
     ]
    }
   ],
   "source": [
    "# проверка нахождения L и U \"на листочке\"\n",
    "L = np.array([ [1, 0, 0], [11/2, 1, 0], [9/2, 7/3, 1]])\n",
    "U = np.array([ [2, 1, 3], [0, 3/2, -23/2], [0, 0, 52/3]])\n",
    "print(f'Матрица LU\\n{np.dot(L, U)}')\n",
    "\n",
    "# Решим уравнение L*y=b\n",
    "B = np.array([[1], [-6], [-5]])\n",
    "y = np.dot(np.linalg.inv(L),B)\n",
    "print(f'Матрица Y\\n{y}')\n",
    "\n",
    "# Решим уравнение U*x=y\n",
    "x = np.dot(np.linalg.inv(U),y)\n",
    "print(f'Решение системы:\\n {x}')"
   ]
  },
  {
   "cell_type": "markdown",
   "metadata": {},
   "source": [
    "#### 7. 4*.  Решить систему линейных уравнений методом Холецкого\n",
    "\n",
    "$$\\begin{cases}\n",
    "81x_{1}-45x_{2}+45x_{3}=531 \\\\\n",
    "-45x_{1}+50x_{2}-15x_{3}=-460 \\\\\n",
    "45x_{1}-15x_{2}+38x_{3}=193\n",
    "\\end{cases}$$"
   ]
  },
  {
   "cell_type": "code",
   "execution_count": 38,
   "metadata": {},
   "outputs": [
    {
     "name": "stdout",
     "output_type": "stream",
     "text": [
      "Матрица L\n",
      " [[ 9.  0.  0.]\n",
      " [-5.  5.  0.]\n",
      " [ 5.  2.  3.]]\n",
      "Матрица LT\n",
      " [[ 9. -5.  5.]\n",
      " [ 0.  5.  2.]\n",
      " [ 0.  0.  3.]]\n",
      "Матрица Y\n",
      "[[ 59.]\n",
      " [-33.]\n",
      " [-12.]]\n",
      "Решение системы:\n",
      " [[ 6.]\n",
      " [-5.]\n",
      " [-4.]]\n"
     ]
    }
   ],
   "source": [
    "from numpy.linalg import cholesky\n",
    "A = np.array([[81, -45, 45], [-45, 50, -15], [45, -15, 38]])\n",
    "\n",
    "#найдем матрицу l\n",
    "L = np.linalg.cholesky(A)\n",
    "print(f'Матрица L\\n {L}')\n",
    "\n",
    "#найдем матрицу L.T\n",
    "L_t = L.transpose()\n",
    "print(f'Матрица LT\\n {L_t}')\n",
    "\n",
    "# Решим уравнение L*y=b\n",
    "B = np.array([[531], [-460], [193]])\n",
    "y = np.dot(np.linalg.inv(L),B)\n",
    "print(f'Матрица Y\\n{y}')\n",
    "\n",
    "# Решим уравнение L_t*x=y\n",
    "x = np.dot(np.linalg.inv(L_t),y)\n",
    "print(f'Решение системы:\\n {x}')"
   ]
  },
  {
   "cell_type": "code",
   "execution_count": null,
   "metadata": {},
   "outputs": [],
   "source": []
  }
 ],
 "metadata": {
  "kernelspec": {
   "display_name": "Python 3",
   "language": "python",
   "name": "python3"
  },
  "language_info": {
   "codemirror_mode": {
    "name": "ipython",
    "version": 3
   },
   "file_extension": ".py",
   "mimetype": "text/x-python",
   "name": "python",
   "nbconvert_exporter": "python",
   "pygments_lexer": "ipython3",
   "version": "3.8.5"
  }
 },
 "nbformat": 4,
 "nbformat_minor": 4
}
